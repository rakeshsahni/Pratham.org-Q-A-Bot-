{
  "nbformat": 4,
  "nbformat_minor": 0,
  "metadata": {
    "colab": {
      "provenance": []
    },
    "kernelspec": {
      "name": "python3",
      "display_name": "Python 3"
    },
    "language_info": {
      "name": "python"
    }
  },
  "cells": [
    {
      "cell_type": "markdown",
      "source": [
        "# Pratham.org Q&A Bot\n",
        "\n",
        "## Objective\n",
        "Build a question-answering bot that collects information from pratham.org and responds to user queries.\n",
        "\n",
        "## Table of Contents\n",
        "1. [Setup and Dependencies](#setup-and-dependencies)\n",
        "2. [Data Collection](#data-collection)\n",
        "3. [Data Processing](#data-processing)\n",
        "4. [Knowledge Base Creation](#knowledge-base-creation)\n",
        "5. [Q&A Bot Development](#qa-bot-development)\n",
        "6. [Evaluation](#evaluation)\n",
        "7. [Cost Analysis](#cost-analysis)"
      ],
      "metadata": {
        "id": "AXnWbkIz_Qek"
      }
    },
    {
      "cell_type": "code",
      "execution_count": null,
      "metadata": {
        "id": "2xgz4gyS_E_y"
      },
      "outputs": [],
      "source": []
    },
    {
      "cell_type": "markdown",
      "source": [
        "## 1. Setup and Dependencies <a name=\"setup-and-dependencies\"></a>"
      ],
      "metadata": {
        "id": "3H0-XxKa_e6R"
      }
    },
    {
      "cell_type": "code",
      "source": [
        "# @markdown **First, let's install the necessary libraries:**\n",
        "\n",
        "\n",
        "!pip install -q scrapy\n",
        "!pip install -q aiohttp beautifulsoup4 pypdf\n",
        "!pip install -q langchain langchain-core langchain-community langchain-openai\n",
        "!pip install -q faiss-cpu tiktoken gradio"
      ],
      "metadata": {
        "collapsed": true,
        "cellView": "form",
        "id": "qGc8U4SH_fnq"
      },
      "execution_count": 3,
      "outputs": []
    },
    {
      "cell_type": "code",
      "source": [
        "# @markdown **Now, let's import the required modules:**\n",
        "\n",
        "import scrapy\n",
        "from scrapy.crawler import CrawlerProcess\n",
        "from langchain_text_splitters import RecursiveCharacterTextSplitter\n",
        "from langchain_openai import OpenAI, OpenAIEmbeddings, ChatOpenAI\n",
        "from langchain_community.vectorstores import FAISS\n",
        "from langchain_core.prompts import ChatPromptTemplate\n",
        "from langchain_core.runnables import RunnablePassthrough\n",
        "from langchain_core.messages import SystemMessage\n",
        "from langchain_core.output_parsers import StrOutputParser\n",
        "from langchain_community.callbacks.manager import get_openai_callback\n",
        "import gradio as gr\n",
        "import os\n",
        "import json\n",
        "import aiohttp\n",
        "import asyncio\n",
        "from bs4 import BeautifulSoup\n",
        "from urllib.parse import urljoin, urlparse\n",
        "import re\n",
        "import io\n",
        "from pypdf import PdfReader\n",
        "import logging\n",
        "\n",
        "# Set up logging\n",
        "logging.basicConfig(level=logging.INFO)\n",
        "logger = logging.getLogger(__name__)\n",
        "\n",
        "# Set up OpenAI API\n",
        "from google.colab import userdata\n",
        "from openai import OpenAI\n",
        "\n",
        "client = OpenAI(api_key=userdata.get('OPENAI_API_KEY'))\n",
        "os.environ['OPENAI_API_KEY'] = userdata.get('OPENAI_API_KEY')\n",
        "OPENAI_MODEL_NAME = \"gpt-4-1106-preview\""
      ],
      "metadata": {
        "cellView": "form",
        "id": "zLAC35HR_5nq"
      },
      "execution_count": 4,
      "outputs": []
    },
    {
      "cell_type": "code",
      "source": [],
      "metadata": {
        "id": "NpmuZ2ZrADhj"
      },
      "execution_count": null,
      "outputs": []
    },
    {
      "cell_type": "markdown",
      "source": [
        "## 2. Data Collection <a name=\"data-collection\"></a>"
      ],
      "metadata": {
        "id": "Ezd3FRflAEMX"
      }
    },
    {
      "cell_type": "code",
      "source": [
        "# @markdown **We'll use an asynchronous web scraper to collect data from Pratham.org:**\n",
        "\n",
        "class AsyncPrathamScraper:\n",
        "    def __init__(self, start_url='https://www.pratham.org/'):\n",
        "        self.start_url = start_url\n",
        "        self.base_url = f\"{urlparse(start_url).scheme}://{urlparse(start_url).netloc}\"\n",
        "        self.visited_urls = set()\n",
        "        self.results = []\n",
        "        self.max_retries = 3\n",
        "        self.retry_delay = 5  # seconds\n",
        "\n",
        "    async def fetch(self, session, url, retries=0):\n",
        "        try:\n",
        "            async with session.get(url, timeout=30) as response:\n",
        "                if response.status == 200:\n",
        "                    if response.content_type == 'application/pdf':\n",
        "                        return await response.read()\n",
        "                    else:\n",
        "                        return await response.text()\n",
        "                else:\n",
        "                    logger.warning(f\"Non-200 status code for {url}: {response.status}\")\n",
        "                    return None\n",
        "        except asyncio.TimeoutError:\n",
        "            if retries < self.max_retries:\n",
        "                logger.warning(f\"Timeout for {url}. Retrying in {self.retry_delay} seconds...\")\n",
        "                await asyncio.sleep(self.retry_delay)\n",
        "                return await self.fetch(session, url, retries + 1)\n",
        "            else:\n",
        "                logger.error(f\"Max retries reached for {url}\")\n",
        "                return None\n",
        "        except aiohttp.ClientError as e:\n",
        "            logger.error(f\"Error fetching {url}: {str(e)}\")\n",
        "            return None\n",
        "\n",
        "    def extract_content(self, soup):\n",
        "        content = []\n",
        "        selectors = ['div.entry-content', 'main#main', 'div.content-area', 'article']\n",
        "\n",
        "        for selector in selectors:\n",
        "            content_element = soup.select_one(selector)\n",
        "            if content_element:\n",
        "                content = [text.strip() for text in content_element.stripped_strings]\n",
        "                break\n",
        "\n",
        "        if not content:\n",
        "            content = [text.strip() for text in soup.body.stripped_strings if text.strip()]\n",
        "\n",
        "        content = ' '.join(content)\n",
        "        content = re.sub(r'\\s+', ' ', content)\n",
        "        return content.strip()\n",
        "\n",
        "    def extract_pdf_content(self, pdf_content):\n",
        "        try:\n",
        "            pdf = PdfReader(io.BytesIO(pdf_content))\n",
        "            text = \"\"\n",
        "            for page in pdf.pages:\n",
        "                text += page.extract_text() + \"\\n\"\n",
        "            return text.strip()\n",
        "        except Exception as e:\n",
        "            logger.error(f\"Error extracting PDF content: {str(e)}\")\n",
        "            return \"\"\n",
        "\n",
        "    async def scrape_page(self, session, url):\n",
        "        if url in self.visited_urls:\n",
        "            return\n",
        "        self.visited_urls.add(url)\n",
        "\n",
        "        content = await self.fetch(session, url)\n",
        "        if content is None:\n",
        "            return\n",
        "\n",
        "        if isinstance(content, bytes):  # PDF content\n",
        "            extracted_content = self.extract_pdf_content(content)\n",
        "            self.results.append({\n",
        "                'url': url,\n",
        "                'title': url.split('/')[-1],\n",
        "                'content': extracted_content\n",
        "            })\n",
        "        else:  # HTML content\n",
        "            soup = BeautifulSoup(content, 'html.parser')\n",
        "            extracted_content = self.extract_content(soup)\n",
        "            self.results.append({\n",
        "                'url': url,\n",
        "                'title': soup.title.string if soup.title else '',\n",
        "                'content': extracted_content\n",
        "            })\n",
        "\n",
        "            internal_links = [\n",
        "                urljoin(self.base_url, a['href'])\n",
        "                for a in soup.find_all('a', href=True)\n",
        "                if urlparse(a['href']).netloc == '' or urlparse(a['href']).netloc == urlparse(self.base_url).netloc\n",
        "            ]\n",
        "\n",
        "            tasks = [asyncio.create_task(self.scrape_page(session, link)) for link in internal_links]\n",
        "            await asyncio.gather(*tasks)\n",
        "\n",
        "    async def run(self):\n",
        "        async with aiohttp.ClientSession() as session:\n",
        "            await self.scrape_page(session, self.start_url)\n",
        "\n",
        "        with open('pratham_org_data.json', 'w', encoding='utf-8') as f:\n",
        "            json.dump(self.results, f, ensure_ascii=False, indent=4)\n",
        "        logger.info(\"Scraping completed. Data saved to pratham_org_data.json\")\n",
        "\n",
        "# Run the scraper\n",
        "async def main():\n",
        "    scraper = AsyncPrathamScraper()\n",
        "    await scraper.run()\n",
        "\n",
        "await main()\n",
        "\n",
        "print(\"Scraping process completed. Check the 'pratham_org_data.json' file for results.\")"
      ],
      "metadata": {
        "colab": {
          "base_uri": "https://localhost:8080/"
        },
        "cellView": "form",
        "id": "ZTfjYs4IAEzy",
        "outputId": "ce969d2f-1cf8-4e4e-ea9a-6c79a1dc8775"
      },
      "execution_count": 5,
      "outputs": [
        {
          "output_type": "stream",
          "name": "stderr",
          "text": [
            "ERROR:__main__:Error fetching mailto:info@pratham.org: mailto:info@pratham.org\n",
            "ERROR:__main__:Error fetching mailto:ece@pratham.org: mailto:ece@pratham.org\n",
            "ERROR:__main__:Error fetching mailto:digital@pratham.org: mailto:digital@pratham.org\n",
            "ERROR:__main__:Error fetching mailto:contact@asercentre.org: mailto:contact@asercentre.org\n",
            "ERROR:__main__:Error fetching mailto:secondchance@pratham.org: mailto:secondchance@pratham.org\n",
            "ERROR:__main__:Error fetching javascript:void(0): javascript:void(0)\n",
            "ERROR:__main__:Error fetching tel:tel:11 46023612: tel:tel:11%2046023612\n",
            "ERROR:__main__:Error fetching mailto:mailto: demo@example.com: mailto:mailto:%20demo@example.com\n",
            "ERROR:__main__:Error fetching mailto:recruitment@pratham.org: mailto:recruitment@pratham.org\n",
            "ERROR:__main__:Error fetching mailto:prmrecruitment@pratham.org: mailto:prmrecruitment@pratham.org\n",
            "ERROR:__main__:Error fetching mailto:mme@pratham.org: mailto:mme@pratham.org\n",
            "ERROR:__main__:Error fetching mailto:life.digitalcontent@pratham.org: mailto:life.digitalcontent@pratham.org\n",
            "ERROR:__main__:Error fetching mailto:maitreiyee.krishna@pratham.org: mailto:maitreiyee.krishna@pratham.org\n",
            "ERROR:__main__:Error fetching mailto:communications@pratham.org: mailto:communications@pratham.org\n",
            "ERROR:__main__:Error fetching mailto:prachi.uikey@pratham.org: mailto:prachi.uikey@pratham.org\n",
            "ERROR:__main__:Error fetching mailto:anuja.pendharkar@pratham.org: mailto:anuja.pendharkar@pratham.org\n",
            "ERROR:__main__:Error fetching mailto:ramya.devaraj@pratham.org: mailto:ramya.devaraj@pratham.org\n",
            "ERROR:__main__:Error fetching mailto:suresh.babu@pratham.org: mailto:suresh.babu@pratham.org\n",
            "ERROR:__main__:Error fetching mailto:anisha.kaushik@pratham.org: mailto:anisha.kaushik@pratham.org\n",
            "ERROR:__main__:Error fetching https://www.pratham.org/2024/04/24/senior-associate-production-pratham-shah-pradigi-innovation-center/: Server disconnected\n",
            "ERROR:__main__:Error fetching https://www.pratham.org/2023/08/25/senior-content-and-training-associate-girls-and-women-programs/: Server disconnected\n",
            "ERROR:__main__:Error fetching https://www.pratham.org/2023/11/06/senior-research-associate-research-analytics-pratham-digital/: Server disconnected\n",
            "ERROR:__main__:Error fetching https://www.pratham.org/2023/10/06/tailoring-master-trainer-beauty-w3-skilling-program/: Server disconnected\n",
            "ERROR:__main__:Error fetching https://www.pratham.org/2023/12/26/senior-research-associate-research-analytics-pratham-digital-2/: Server disconnected\n",
            "ERROR:__main__:Error fetching https://www.pratham.org/2024/04/05/research-associate-early-years-assessment-unit-aser-centre/: Server disconnected\n",
            "ERROR:__main__:Error fetching https://www.pratham.org/2024/05/01/state-mme-measurement-monitoring-and-evaluation-associate-assam/: Server disconnected\n",
            "ERROR:__main__:Error fetching https://www.pratham.org/2024/06/03/senior-graphic-designer-production/: Server disconnected\n",
            "ERROR:__main__:Error fetching https://www.pratham.org/2023/03/01/project-coordinator-gurugram-pratham/: Server disconnected\n",
            "ERROR:__main__:Error fetching https://www.pratham.org/2023/11/15/therapist/: Server disconnected\n",
            "ERROR:__main__:Error fetching https://www.pratham.org/2023/11/09/special-educator-enable-program/: Server disconnected\n",
            "ERROR:__main__:Error fetching mailto:sunaina.goldsmith@pratham.org: mailto:sunaina.goldsmith@pratham.org\n",
            "ERROR:__main__:Error fetching mailto:aditi@pratham.org: mailto:aditi@pratham.org\n",
            "ERROR:__main__:Error fetching mailto:priyanka.jha@pratham.org: mailto:priyanka.jha@pratham.org\n",
            "ERROR:__main__:Error fetching mailto:sachin.shewale@pratham.org: mailto:sachin.shewale@pratham.org\n",
            "ERROR:__main__:Error fetching mailto:gujarat@pratham.org: mailto:gujarat@pratham.org\n",
            "ERROR:__main__:Error fetching mailto:aditi@pratham.organd: mailto:aditi@pratham.organd\n",
            "ERROR:__main__:Error fetching mailto:shivangi.sharma@pratham.org: mailto:shivangi.sharma@pratham.org\n",
            "ERROR:__main__:Error fetching mailto:assam@pratham.org: mailto:assam@pratham.org\n",
            "ERROR:__main__:Error fetching mailto:oe@pratham.org: mailto:oe@pratham.org\n",
            "ERROR:__main__:Error fetching mailto:learningwithvodafone@pratham.org: mailto:learningwithvodafone@pratham.org\n",
            "ERROR:__main__:Error fetching mailto:siddhant.kulshreshtha@pratham.org: mailto:siddhant.kulshreshtha@pratham.org\n",
            "ERROR:__main__:Error fetching mailto:rani.sharma@pratham.org: mailto:rani.sharma@pratham.org\n",
            "ERROR:__main__:Error fetching mailto:gurushala@pratham.org: mailto:gurushala@pratham.org\n",
            "ERROR:__main__:Error fetching mailto:resources@pratham.org: mailto:resources@pratham.org\n",
            "WARNING:__main__:Non-200 status code for https://www.pratham.org/2024/02/19/camal-ka-camp-how-community-mobilisers-volunteers-boost-learning-levels-in-children/: 500\n",
            "WARNING:__main__:Non-200 status code for https://www.pratham.org/2023/11/01/content-training-associate-maths-grade-1-5/: 500\n",
            "WARNING:__main__:Non-200 status code for https://www.pratham.org/2019/05/21/colgate/: 500\n",
            "WARNING:__main__:Non-200 status code for https://www.pratham.org/2019/02/10/cognizant/: 500\n",
            "WARNING:__main__:Non-200 status code for https://www.pratham.org/2019/02/10/clp-india/: 500\n",
            "WARNING:__main__:Non-200 status code for https://www.pratham.org/2023/06/07/vfx-artist-and-animator-pratham-learning-with-vodafone/: 500\n",
            "WARNING:__main__:Non-200 status code for https://www.pratham.org/2020/03/13/effective-intervention/: 500\n",
            "WARNING:__main__:Non-200 status code for https://www.pratham.org/2022/06/22/content-translator-early-years-team-pratham/: 500\n",
            "WARNING:__main__:Non-200 status code for https://www.pratham.org/2023/07/20/the-school-of-my-dreams/: 500\n",
            "WARNING:__main__:Non-200 status code for https://www.pratham.org/2023/08/29/madhav-chavan-rukmini-banerji/: 500\n",
            "WARNING:__main__:Non-200 status code for https://www.pratham.org/2019/02/10/cgpl/: 500\n",
            "WARNING:__main__:Non-200 status code for https://www.pratham.org/2022/08/04/industry-consultant-pratham-skilling/: 500\n",
            "WARNING:__main__:Non-200 status code for https://www.pratham.org/2019/05/21/wipro/: 500\n",
            "WARNING:__main__:Non-200 status code for https://www.pratham.org/2019/05/21/accenture-2/: 500\n",
            "WARNING:__main__:Non-200 status code for https://www.pratham.org/2019/02/10/citi-foundation/: 500\n",
            "WARNING:__main__:Non-200 status code for https://www.pratham.org/2024/06/03/cinematographer-production-media/: 500\n",
            "WARNING:__main__:Non-200 status code for https://www.pratham.org/2023/07/14/dr-rukmini-banerji-ceo-of-pratham-education-foundation-about-the-success-of-aser-and-more/: 500\n",
            "WARNING:__main__:Non-200 status code for https://www.pratham.org/2019/05/21/medal-for-distinguished-service-to-madhav-chavan-teachers-college-columbia-university-2017/: 500\n",
            "WARNING:__main__:Non-200 status code for https://www.pratham.org/2019/02/10/educo/: 500\n",
            "WARNING:__main__:Non-200 status code for https://www.pratham.org/2019/05/21/bbva-foundation-frontiers-of-knowledge-award-2014/: 500\n",
            "WARNING:__main__:Non-200 status code for https://www.pratham.org/2023/03/14/2021-yidan-prize/: 500\n",
            "WARNING:__main__:Non-200 status code for https://www.pratham.org/2019/05/21/recognition-by-the-asia-society-as-asia-game-changer-2014-2/: 500\n",
            "WARNING:__main__:Non-200 status code for https://www.pratham.org/2023/03/14/2022-indira-gandhi-award/: 500\n",
            "WARNING:__main__:Non-200 status code for https://www.pratham.org/2019/05/21/lui-che-woo-2018-prize-in-the-positive-energy-category-for-eliminating-illiteracy-hong-kong-2018/: 500\n",
            "WARNING:__main__:Non-200 status code for https://www.pratham.org/2019/02/10/recognition-by-the-asia-society-as-asia-game-changer-2014/: 500\n",
            "WARNING:__main__:Non-200 status code for https://www.pratham.org/2019/05/21/the-global-journal-named-pratham-as-one-of-the-top-100-ngos-in-the-world-2012-2013/: 500\n",
            "WARNING:__main__:Non-200 status code for https://www.pratham.org/2019/05/21/wise-prize-for-education-to-madhav-chavan-2012/: 500\n",
            "WARNING:__main__:Non-200 status code for https://www.pratham.org/2019/06/03/csr-leader-award-by-ceo-india-to-co-founders-madhav-chavan-farida-lambay/: 500\n",
            "WARNING:__main__:Non-200 status code for https://www.pratham.org/2019/06/03/business-today-award-for-one-of-the-most-powerful-women-in-impact-to-rukmini-banerji-2018-2/: 500\n",
            "WARNING:__main__:Non-200 status code for https://www.pratham.org/2019/02/10/the-kravis-prize-in-leadership-2010/: 500\n",
            "WARNING:__main__:Non-200 status code for https://www.pratham.org/2023/04/10/central-content-associate-elementary-grades-pratham/: 500\n",
            "WARNING:__main__:Non-200 status code for https://www.pratham.org/2019/05/21/alfa-laval/: 500\n",
            "WARNING:__main__:Non-200 status code for https://www.pratham.org/2019/06/03/aima-public-service-excellence-award-2013/: 500\n",
            "WARNING:__main__:Non-200 status code for https://www.pratham.org/2019/06/03/seva-ratna-sahyadri-navratna-award-by-doordarshan-to-farida-lambay-2013/: 500\n",
            "WARNING:__main__:Non-200 status code for https://www.pratham.org/2019/06/03/agent-of-social-change-as-part-of-gq-men-of-the-year-awards-to-madhav-chavan-2015/: 500\n",
            "WARNING:__main__:Non-200 status code for https://www.pratham.org/2019/06/03/times-of-india-social-impact-award-for-pratham-usa-2013/: 500\n",
            "WARNING:__main__:Non-200 status code for https://www.pratham.org/2019/06/03/qimpro-award-for-excellence-2012/: 500\n",
            "WARNING:__main__:Non-200 status code for https://www.pratham.org/2019/06/03/social-enterprise-of-the-year-business-standard-corporate-social-responsibility-awards/: 500\n",
            "WARNING:__main__:Non-200 status code for https://www.pratham.org/2019/06/03/indian-business-leader-award-by-cnbc-tv-18-to-madhav-chavan-2010/: 500\n",
            "WARNING:__main__:Non-200 status code for https://www.pratham.org/2019/06/03/empi-indian-express-indian-innovation-award-for-read-india-2009/: 500\n",
            "WARNING:__main__:Non-200 status code for https://www.pratham.org/2019/06/03/ht-for-mumbai-changemaker-title-under-the-education-category-to-farida-lambay-2016/: 500\n",
            "WARNING:__main__:Non-200 status code for https://www.pratham.org/2024/07/01/aarti/: 500\n",
            "WARNING:__main__:Non-200 status code for https://www.pratham.org/2019/02/10/maulana-abul-kalam-azad-shiksha-puraskar-govt-of-bihar-to-rukmini-banerji-2008/: 500\n",
            "WARNING:__main__:Non-200 status code for https://www.pratham.org/2019/02/10/cnn-ibn-indian-of-the-year-in-public-service-category-2009/: 500\n",
            "WARNING:__main__:Non-200 status code for https://www.pratham.org/2024/06/21/saraswati-2/: 500\n",
            "WARNING:__main__:Non-200 status code for https://www.pratham.org/impact/?dps_paged=2: 500\n",
            "WARNING:__main__:Non-200 status code for https://www.pratham.org/mmlc-package/: 500\n",
            "WARNING:__main__:Non-200 status code for https://www.pratham.org/2023/12/07/jilanba/: 500\n",
            "WARNING:__main__:Non-200 status code for https://www.pratham.org/2023/09/11/kedarnath/: 500\n",
            "WARNING:__main__:Non-200 status code for https://www.pratham.org/impact/?dps_paged=3: 500\n",
            "WARNING:__main__:Non-200 status code for https://www.pratham.org/2023/12/14/saraswati/: 500\n",
            "WARNING:__main__:Non-200 status code for https://www.pratham.org/2024/02/09/kaleena/: 500\n",
            "WARNING:__main__:Non-200 status code for https://www.pratham.org/about/annual-reports/2020-21/: 500\n",
            "WARNING:__main__:Non-200 status code for https://www.pratham.org/ar/ar1718.pdf: 500\n",
            "WARNING:__main__:Non-200 status code for https://www.pratham.org/2024/03/27/sanvi/: 500\n",
            "WARNING:__main__:Non-200 status code for https://www.pratham.org/annual-reports-2020-21/: 500\n",
            "WARNING:__main__:Non-200 status code for https://www.pratham.org/2019/05/21/whirlpool/: 500\n",
            "WARNING:__main__:Non-200 status code for https://www.pratham.org/category/board/: 500\n",
            "WARNING:__main__:Non-200 status code for https://www.pratham.org/?page_id=4511: 404\n",
            "WARNING:__main__:Non-200 status code for https://www.pratham.org/2023/09/11/tameshwari/: 500\n",
            "WARNING:__main__:Non-200 status code for https://www.pratham.org/?page_id=4716: 404\n",
            "WARNING:__main__:Non-200 status code for https://www.pratham.org/2024/07/04/intern-content-development-and-design-english-program/ : 500\n",
            "WARNING:__main__:Non-200 status code for https://www.pratham.org/2024/07/16/intern-for-maths-early-years-content/ : 500\n",
            "WARNING:__main__:Non-200 status code for https://www.pratham.org/2024/07/23/action-researcher-birth-3-years/ : 500\n",
            "WARNING:__main__:Non-200 status code for https://www.pratham.org/category/internship-opportunities/: 500\n",
            "WARNING:__main__:Non-200 status code for https://www.pratham.org/2024/07/04/associate-english-program-2/ : 500\n",
            "WARNING:__main__:Non-200 status code for https://www.pratham.org/category/job-opportunities/program-roles/: 500\n",
            "ERROR:__main__:Error fetching mailto:anisha.kaushik@pratham.or: mailto:anisha.kaushik@pratham.or\n",
            "WARNING:pypdf._reader:Ignoring wrong pointing object 8 0 (offset 0)\n",
            "WARNING:pypdf._reader:Ignoring wrong pointing object 14 0 (offset 0)\n",
            "WARNING:pypdf._reader:Ignoring wrong pointing object 16 0 (offset 0)\n",
            "WARNING:pypdf._reader:Ignoring wrong pointing object 18 0 (offset 0)\n",
            "WARNING:pypdf._reader:Ignoring wrong pointing object 20 0 (offset 0)\n",
            "WARNING:pypdf._reader:Ignoring wrong pointing object 30 0 (offset 0)\n",
            "WARNING:pypdf._reader:Ignoring wrong pointing object 32 0 (offset 0)\n",
            "WARNING:pypdf._reader:Ignoring wrong pointing object 34 0 (offset 0)\n",
            "WARNING:pypdf._reader:Ignoring wrong pointing object 42 0 (offset 0)\n",
            "WARNING:pypdf._reader:Ignoring wrong pointing object 44 0 (offset 0)\n",
            "WARNING:pypdf._reader:Ignoring wrong pointing object 46 0 (offset 0)\n",
            "WARNING:pypdf._reader:Ignoring wrong pointing object 53 0 (offset 0)\n",
            "WARNING:pypdf._reader:Ignoring wrong pointing object 55 0 (offset 0)\n",
            "WARNING:pypdf._reader:Ignoring wrong pointing object 57 0 (offset 0)\n",
            "WARNING:pypdf._reader:Ignoring wrong pointing object 59 0 (offset 0)\n",
            "WARNING:pypdf._reader:Ignoring wrong pointing object 61 0 (offset 0)\n",
            "WARNING:pypdf._reader:Ignoring wrong pointing object 75 0 (offset 0)\n",
            "WARNING:pypdf._reader:Ignoring wrong pointing object 81 0 (offset 0)\n",
            "WARNING:pypdf._reader:Ignoring wrong pointing object 88 0 (offset 0)\n",
            "WARNING:pypdf._reader:Ignoring wrong pointing object 127 0 (offset 0)\n",
            "WARNING:__main__:Non-200 status code for https://www.pratham.org/2023/10/31/rukmini-banerji-co-authors-a-chapter-in-the-oxford-handbook-of-program-design-and-implementation-evaluation/ : 500\n",
            "WARNING:__main__:Non-200 status code for https://www.pratham.org/book-chapters: 500\n",
            "WARNING:__main__:Non-200 status code for https://www.pratham.org/about: 500\n",
            "WARNING:__main__:Non-200 status code for https://www.pratham.org/others: 500\n",
            "WARNING:__main__:Non-200 status code for https://www.pratham.org/2023/07/14/dr-rukmini-banerji-ceo-of-pratham-education-foundation-about-the-success-of-aser-and-more/ : 500\n",
            "WARNING:__main__:Non-200 status code for https://www.pratham.org/journal-articles: 500\n",
            "WARNING:__main__:Non-200 status code for https://www.pratham.org/author/vikram/: 500\n",
            "WARNING:__main__:Non-200 status code for https://www.pratham.org/publications/policy-briefs: 500\n",
            "WARNING:__main__:Non-200 status code for https://www.pratham.org/get-involved: 500\n",
            "WARNING:__main__:Non-200 status code for https://www.pratham.org/?p=1797: 404\n",
            "WARNING:__main__:Non-200 status code for https://www.pratham.org/programs/education/international-collaborations/: 404\n",
            "ERROR:__main__:Error fetching mailto:madhyapradesh@pratham.org: mailto:madhyapradesh@pratham.org\n",
            "ERROR:__main__:Error fetching mailto:shraddha.chorgi@pratham.org: mailto:shraddha.chorgi@pratham.org\n",
            "ERROR:__main__:Error fetching https://www.pratham.org/2023/01/07/welcoming-the-new-year-with-happy-young-girls/: Server disconnected\n",
            "ERROR:__main__:Error fetching https://www.pratham.org/2023/01/13/gautam-kumar-of-bhithiharwa/: Server disconnected\n",
            "ERROR:__main__:Error fetching https://www.pratham.org/2023/01/03/indias-early-years-mathematics-curriculum-continuity-discontinuity-and-progression/: Server disconnected\n",
            "ERROR:__main__:Error fetching https://www.pratham.org/2023/01/07/welcoming-the-new-year-with-happy-young-girls/ : Server disconnected\n",
            "ERROR:__main__:Error fetching https://www.pratham.org/2023/01/03/indias-early-years-mathematics-curriculum-continuity-discontinuity-and-progression/ : Server disconnected\n",
            "ERROR:__main__:Error fetching https://www.pratham.org/2023/01/31/impact-of-connectivity-on-the-future-of-education/ : Server disconnected\n",
            "ERROR:__main__:Error fetching https://www.pratham.org/2023/02/10/bihar-winter-camp/: Server disconnected\n",
            "ERROR:__main__:Error fetching https://www.pratham.org/2023/02/04/what-india-needs-to-improve-its-education-system-post-pandemic/ : Server disconnected\n",
            "ERROR:__main__:Error fetching https://www.pratham.org/category/news/page/3/: Server disconnected\n",
            "ERROR:__main__:Error fetching https://www.pratham.org/2023/02/10/odisha-winter-camp/: Server disconnected\n",
            "ERROR:__main__:Error fetching https://www.pratham.org/2023/02/10/odisha-winter-camp/ : Server disconnected\n",
            "ERROR:__main__:Error fetching https://www.pratham.org/2023/01/31/impact-of-connectivity-on-the-future-of-education/: Server disconnected\n",
            "ERROR:__main__:Error fetching https://www.pratham.org/2023/02/04/what-india-needs-to-improve-its-education-system-post-pandemic/: Server disconnected\n",
            "ERROR:__main__:Error fetching https://www.pratham.org/2023/01/13/gautam-kumar-of-bhithiharwa/ : Server disconnected\n",
            "ERROR:__main__:Error fetching https://www.pratham.org/get-involved/partner-with-us: Server disconnected\n",
            "ERROR:__main__:Error fetching https://www.pratham.org/get-involved/job-opportunities: Server disconnected\n",
            "ERROR:__main__:Error fetching https://www.pratham.org/2023/08/29/madhav-chavan-rukmini-banerji/ : Server disconnected\n",
            "ERROR:__main__:Error fetching https://www.pratham.org/2019/07/11/ushas-story-mobilizing-action-around-the-world/: Server disconnected\n",
            "ERROR:__main__:Error fetching https://www.pratham.org/2023/11/17/dr-rukmini-banerji-on-learning-outcomes-and-implementation-of-nep-2020-at-tedx-iim-ahmedabad/ : Server disconnected\n",
            "ERROR:__main__:Error fetching https://www.pratham.org/2023/03/14/rukmini-banerji-at-the-gsvemeritus-india-summit/: Server disconnected\n",
            "ERROR:__main__:Error fetching https://www.pratham.org/2019/02/09/kabita-and-lilis-story-a-special-bond/: Server disconnected\n",
            "ERROR:__main__:Error fetching https://www.pratham.org/author/afzal_pratham/: Server disconnected\n",
            "ERROR:__main__:Error fetching https://www.pratham.org/author/vasudha/: Server disconnected\n",
            "ERROR:__main__:Error fetching https://www.pratham.org/2023/11/28/childrens-rights-in-the-asia-pacific-region-critical-reflections-on-participation-education-girls-rights-and-child-marriage/ : Server disconnected\n",
            "ERROR:__main__:Error fetching https://www.pratham.org/2019/03/19/dattatrays-story-shifting-gears/: Server disconnected\n",
            "ERROR:__main__:Error fetching https://www.pratham.org/covid-19-response/crisis-management-initiatives-resources/ : Server disconnected\n",
            "ERROR:__main__:Error fetching https://www.pratham.org/2024/07/25/manager-program-management-group/ : Server disconnected\n",
            "ERROR:__main__:Error fetching https://www.pratham.org/2024/07/25/senior-mel-associate-enable-program/ : Server disconnected\n",
            "ERROR:__main__:Error fetching https://www.pratham.org/2024/07/25/project-coordinator-gurugram-2/ : Server disconnected\n",
            "ERROR:__main__:Error fetching https://www.pratham.org/2023/12/12/the-foundational-learning-data-challenge-a-civil-society-view-from-the-global-south/ : Server disconnected\n",
            "ERROR:__main__:Error fetching https://www.pratham.org/covid-19-response/prathams-community-based-campaign-for-learning-readiness-catch-up/ : Server disconnected\n",
            "ERROR:__main__:Error fetching https://www.pratham.org/2019/03/19/sunils-story-from-child-laborer-to-champion/: Server disconnected\n",
            "ERROR:__main__:Error fetching https://www.pratham.org/2024/06/18/manager-internal-donor-audit/ : Server disconnected\n",
            "ERROR:__main__:Error fetching https://www.pratham.org/2023/02/10/bihar-winter-camp/ : Server disconnected\n",
            "ERROR:__main__:Error fetching https://www.pratham.org/covid-19-response/government-partnerships-together-we-are-stronger/ : Server disconnected\n",
            "ERROR:__main__:Error fetching https://www.pratham.org/wp-content/uploads/2020/06/English-translation-1.mp4: Server disconnected\n",
            "ERROR:__main__:Error fetching https://www.pratham.org/2023/03/14/rukmini-banerji-at-the-gsvemeritus-india-summit/ : Server disconnected\n",
            "ERROR:__main__:Error fetching https://www.pratham.org/2019/03/19/samitas-story-finding-her-technical-direction/: Server disconnected\n",
            "ERROR:__main__:Error fetching https://www.pratham.org/2023/04/05/manager-talent-acquisition-and-onboarding/ : Server disconnected\n",
            "ERROR:__main__:Error fetching https://www.pratham.org/2019/03/19/sumits-story-a-different-track/: Server disconnected\n",
            "ERROR:__main__:Error fetching https://www.pratham.org/programs/education/ : Server disconnected\n",
            "ERROR:__main__:Error fetching https://www.pratham.org/covid-19-response/connecting-with-children-learn-and-fun/ : Server disconnected\n",
            "ERROR:__main__:Error fetching https://www.pratham.org/category/donors/: Server disconnected\n",
            "ERROR:__main__:Error fetching https://www.pratham.org/2023/05/17/%e0%a4%b8%e0%a4%b9%e0%a5%80-%e0%a4%b8%e0%a4%ae%e0%a4%af-%e0%a4%aa%e0%a4%b0-%e0%a4%89%e0%a4%aa%e0%a4%af%e0%a5%8b%e0%a4%97%e0%a5%80-%e0%a4%86%e0%a4%82%e0%a4%95%e0%a5%9c%e0%a5%87-%e0%a4%ae%e0%a4%bf/ : Server disconnected\n",
            "ERROR:__main__:Error fetching https://www.pratham.org/2019/03/19/sherines-story-a-step-further/: Server disconnected\n",
            "WARNING:__main__:Non-200 status code for https://www.pratham.org/www.ketto.org/mumbaifoodproject: 404\n",
            "WARNING:__main__:Non-200 status code for https://www.pratham.org/madhyapradesh@pratham.org: 404\n",
            "ERROR:__main__:Error fetching https://www.pratham.org/2023/06/27/nationwide-summer-campaigns-can-plug-school-education-gaps/ : Server disconnected\n",
            "ERROR:__main__:Error fetching https://www.pratham.org/2023/06/27/nationwide-summer-campaigns-can-plug-school-education-gaps/: Server disconnected\n",
            "ERROR:__main__:Error fetching https://www.pratham.org/2023/09/11/kedarnath/ : Server disconnected\n",
            "ERROR:__main__:Error fetching https://www.pratham.org/2022/12/09/senior-associate-program-management-pratham/ : Server disconnected\n",
            "ERROR:__main__:Error fetching https://www.pratham.org/2024/01/23/program-management-and-communications-associate-early-childhood-education/ : Server disconnected\n",
            "ERROR:__main__:Error fetching https://www.pratham.org/2023/09/23/jyoti/ : Server disconnected\n",
            "ERROR:__main__:Error fetching https://www.pratham.org/2022/11/25/program-associate-early-years-government-partnership/ : Server disconnected\n",
            "ERROR:__main__:Error fetching https://www.pratham.org/category/girls-women/: Server disconnected\n",
            "WARNING:pypdf._reader:Ignoring wrong pointing object 11 0 (offset 0)\n",
            "WARNING:pypdf._reader:Ignoring wrong pointing object 13 0 (offset 0)\n",
            "WARNING:pypdf._reader:Ignoring wrong pointing object 30 0 (offset 0)\n",
            "WARNING:pypdf._reader:Ignoring wrong pointing object 179 0 (offset 0)\n",
            "WARNING:pypdf._reader:Ignoring wrong pointing object 277 0 (offset 0)\n",
            "ERROR:__main__:Error fetching https://www.pratham.org/2024/02/12/measurement-monitoring-and-evaluation-associate-2/ : Server disconnected\n",
            "ERROR:__main__:Error fetching https://www.pratham.org/2023/11/15/dr-madhav-chavan-and-dr-rukmini-banerji-in-a-podcast-series-with-rohini-nilekani-philanthropies/ : Server disconnected\n",
            "ERROR:__main__:Error fetching https://www.pratham.org/2023/12/14/saraswati/ : Server disconnected\n",
            "ERROR:__main__:Error fetching https://www.pratham.org/2024/06/18/learning-designer-fitness-program-learning-for-life-domain/ : Server disconnected\n",
            "ERROR:__main__:Error fetching https://www.pratham.org/2023/05/17/%e0%a4%b8%e0%a4%b9%e0%a5%80-%e0%a4%b8%e0%a4%ae%e0%a4%af-%e0%a4%aa%e0%a4%b0-%e0%a4%89%e0%a4%aa%e0%a4%af%e0%a5%8b%e0%a4%97%e0%a5%80-%e0%a4%86%e0%a4%82%e0%a4%95%e0%a5%9c%e0%a5%87-%e0%a4%ae%e0%a4%bf/: Server disconnected\n",
            "ERROR:__main__:Error fetching https://www.pratham.org/2023/04/04/program-development-associate-pratham-skilling/ : Server disconnected\n",
            "ERROR:__main__:Error fetching https://www.pratham.org/2023/09/23/sarojani/ : Server disconnected\n",
            "ERROR:__main__:Error fetching https://www.pratham.org/2023/11/06/state-mel-associate-mh/ : Server disconnected\n",
            "ERROR:__main__:Error fetching https://www.pratham.org/2023/10/06/data-documents-and-consent-manager/ : Server disconnected\n",
            "ERROR:__main__:Error fetching https://www.pratham.org/get-involved/donate: Server disconnected\n",
            "ERROR:__main__:Error fetching https://www.pratham.org/2024/02/21/courage-beneath-a-chaarpai-gujarat-mother-breaks-barriers-shows-potential-for-change/ : Server disconnected\n",
            "ERROR:__main__:Error fetching https://www.pratham.org/2024/02/23/playing-with-barahkhadi-how-children-spread-warmth-in-a-delhi-classroom-one-december-afternoon/ : Server disconnected\n",
            "ERROR:__main__:Error fetching https://www.pratham.org/2023/09/12/bulti-hembrom/ : Server disconnected\n",
            "ERROR:__main__:Error fetching https://www.pratham.org/2023/09/12/bulti-hembrom/: Server disconnected\n",
            "ERROR:__main__:Error fetching https://www.pratham.org/2023/09/12/ragini/ : Server disconnected\n",
            "ERROR:__main__:Error fetching https://www.pratham.org/2023/09/12/ragini/: Server disconnected\n",
            "ERROR:__main__:Error fetching https://www.pratham.org/2023/09/12/chintamoni/ : Server disconnected\n",
            "ERROR:__main__:Error fetching https://www.pratham.org/2023/09/12/chintamoni/: Server disconnected\n",
            "ERROR:__main__:Error fetching https://www.pratham.org/2023/09/12/jaga-and-balia/ : Server disconnected\n",
            "ERROR:__main__:Error fetching https://www.pratham.org/2023/09/12/jaga-and-balia/: Server disconnected\n",
            "ERROR:__main__:Error fetching https://www.pratham.org/2023/10/12/bisro/ : Server disconnected\n",
            "ERROR:__main__:Error fetching https://www.pratham.org/2023/10/12/bisro/: Server disconnected\n",
            "ERROR:__main__:Error fetching https://www.pratham.org/2024/03/06/jaipur-woman-breaks-barriers-restarts-school-through-second-chance/ : Server disconnected\n",
            "ERROR:__main__:Error fetching https://www.pratham.org/2024/05/28/pawan/ : Server disconnected\n",
            "ERROR:__main__:Error fetching https://www.pratham.org/2023/09/11/aradhya/ : Server disconnected\n",
            "ERROR:__main__:Error fetching https://www.pratham.org/2024/02/09/kaleena/ : Server disconnected\n",
            "ERROR:__main__:Error fetching https://www.pratham.org/2023/10/26/chirag/ : Server disconnected\n",
            "WARNING:__main__:Timeout for https://www.pratham.org/wp-content/uploads/2023/08/annual_report_2021-2022.pdf. Retrying in 5 seconds...\n",
            "ERROR:__main__:Error fetching https://www.pratham.org/2024/05/31/program-coordinator-gujarat/ : Cannot connect to host www.pratham.org:443 ssl:default [None]\n",
            "ERROR:__main__:Error fetching https://www.pratham.org/2024/06/03/cinematographer-production-media/ : Cannot connect to host www.pratham.org:443 ssl:default [None]\n",
            "ERROR:__main__:Error fetching https://www.pratham.org/2024/05/31/sector-specific-trainer-automotive-4-wheeler-program/ : Cannot connect to host www.pratham.org:443 ssl:default [None]\n",
            "ERROR:__main__:Error fetching https://www.pratham.org/2024/06/18/remote-coordinator/ : Cannot connect to host www.pratham.org:443 ssl:default [None]\n",
            "ERROR:__main__:Error fetching https://www.pratham.org/2024/05/03/content-training-associate-hindi-language/ : Cannot connect to host www.pratham.org:443 ssl:default [None]\n",
            "ERROR:__main__:Error fetching https://www.pratham.org/2019/05/07/ms-farida-lambay/ : Cannot connect to host www.pratham.org:443 ssl:default [None]\n",
            "ERROR:__main__:Error fetching https://www.pratham.org/2019/05/21/dr-rukmini-banerji-3/ : Cannot connect to host www.pratham.org:443 ssl:default [None]\n",
            "ERROR:__main__:Error fetching https://www.pratham.org/2024/07/04/intern-girls-and-women-program/ : Cannot connect to host www.pratham.org:443 ssl:default [None]\n",
            "ERROR:__main__:Error fetching https://www.pratham.org/2024/05/28/content-manager-communications/ : Cannot connect to host www.pratham.org:443 ssl:default [None]\n",
            "WARNING:__main__:Timeout for https://www.pratham.org/wp-content/uploads/2020/11/aserreport2019earlyyearsfinal.pdf. Retrying in 5 seconds...\n",
            "ERROR:__main__:Error fetching https://www.pratham.org/2024/01/23/content-associate-early-childhood-education/ : Server disconnected\n",
            "ERROR:__main__:Error fetching https://www.pratham.org/2024/02/13/project-coordinator-gurugram/ : Server disconnected\n",
            "ERROR:__main__:Error fetching https://www.pratham.org/2020/05/14/dr-madhav-chavan-2/ : Server disconnected\n",
            "ERROR:__main__:Error fetching https://www.pratham.org/2024/02/22/%e0%a4%8f%e0%a4%95-%e0%a4%a6%e0%a4%bf%e0%a4%a8-%e0%a4%ad%e0%a4%be%e0%a4%b0%e0%a4%a4%e0%a5%80-%e0%a4%95%e0%a5%87-%e0%a4%b8%e0%a4%be%e0%a4%a5-%e0%a4%8f%e0%a4%95-%e0%a4%b8%e0%a5%87%e0%a4%95%e0%a4%82/ : Server disconnected\n",
            "ERROR:__main__:Error fetching https://www.pratham.org/author/pratham/page/5/: Server disconnected\n",
            "ERROR:__main__:Error fetching https://www.pratham.org/2024/01/23/course-faculty-early-childhood-education/ : Server disconnected\n",
            "ERROR:__main__:Error fetching https://www.pratham.org/2024/02/17/animator-pratham-shah-pradigi-innovation-center/ : Server disconnected\n",
            "ERROR:__main__:Error fetching mailto:recruitmentsasercentre@gmail.com: mailto:recruitmentsasercentre@gmail.com\n",
            "ERROR:__main__:Error fetching mailto:vani.shree@pratham.org: mailto:vani.shree@pratham.org\n",
            "ERROR:__main__:Error fetching mailto:komal.bamane@pratham.org: mailto:komal.bamane@pratham.org\n",
            "ERROR:__main__:Error fetching mailto:annette.francis@pratham.org: mailto:annette.francis@pratham.org\n",
            "ERROR:__main__:Error fetching mailto:vidya.sabnis@pratham.org: mailto:vidya.sabnis@pratham.org\n"
          ]
        },
        {
          "output_type": "stream",
          "name": "stdout",
          "text": [
            "Scraping process completed. Check the 'pratham_org_data.json' file for results.\n"
          ]
        }
      ]
    },
    {
      "cell_type": "code",
      "source": [],
      "metadata": {
        "id": "NpYdhgyZAd6u"
      },
      "execution_count": null,
      "outputs": []
    },
    {
      "cell_type": "markdown",
      "source": [
        "## 3. Data Processing <a name=\"data-processing\"></a>"
      ],
      "metadata": {
        "id": "pJQvT8ugAePW"
      }
    },
    {
      "cell_type": "code",
      "source": [
        "# @markdown **Now, let's process and clean the scraped data:**\n",
        "\n",
        "# @markdown - Load the scraped data\n",
        "with open(\"/content/pratham_org_data.json\", 'r') as outfile:\n",
        "    all_pages_json_data = json.load(outfile)\n",
        "\n",
        "# @markdown - Clean and filter the data\n",
        "seen_duplicate_title = set()\n",
        "clean_data = []\n",
        "for idx, item in enumerate(all_pages_json_data):\n",
        "    if 'url' not in item or 'title' not in item or 'content' not in item:\n",
        "        logger.warning(f\"Missing required fields in item {idx}\")\n",
        "        continue\n",
        "    if len(item['content'].split()) <= 50 or item['title'] in seen_duplicate_title:\n",
        "        logger.info(f\"Skipping item {idx}: too short or duplicate title\")\n",
        "        continue\n",
        "\n",
        "    clean_data.append(item)\n",
        "    seen_duplicate_title.add(item['title'])\n",
        "\n",
        "print(f\"Cleaned data contains {len(clean_data)} items\")\n",
        "\n",
        "# @markdown - Save the cleaned data\n",
        "with open(\"pratham_org_clean_data.json\", 'w') as infile:\n",
        "    json.dump(clean_data, infile)"
      ],
      "metadata": {
        "colab": {
          "base_uri": "https://localhost:8080/"
        },
        "cellView": "form",
        "id": "oBLHk4KyAemA",
        "outputId": "17ca9536-1b75-4813-85cd-41722cb3c5ac"
      },
      "execution_count": 6,
      "outputs": [
        {
          "output_type": "stream",
          "name": "stdout",
          "text": [
            "Cleaned data contains 211 items\n"
          ]
        }
      ]
    },
    {
      "cell_type": "code",
      "source": [],
      "metadata": {
        "id": "kNHfp7QIBBFp"
      },
      "execution_count": null,
      "outputs": []
    },
    {
      "cell_type": "markdown",
      "source": [
        "## 4. Knowledge Base Creation <a name=\"knowledge-base-creation\"></a>"
      ],
      "metadata": {
        "id": "f5NY0eQzBBd9"
      }
    },
    {
      "cell_type": "code",
      "source": [
        "# @markdown **We'll create a knowledge base using the cleaned data:**\n",
        "\n",
        "# @markdown - Create text chunks\n",
        "text_splitter = RecursiveCharacterTextSplitter(\n",
        "    chunk_size=1200,\n",
        "    chunk_overlap=100,\n",
        "    length_function=len,\n",
        ")\n",
        "\n",
        "docs = text_splitter.create_documents(\n",
        "    texts=[str(item['content']) for item in clean_data],\n",
        "    metadatas=[{'title': item['title'], 'url': item['url']} for item in clean_data]\n",
        ")\n",
        "\n",
        "print(f\"Created {len(docs)} document chunks\")\n",
        "\n",
        "# @markdown - Create embeddings and vector store\n",
        "embedding = OpenAIEmbeddings(model=\"text-embedding-3-small\", dimensions=512)\n",
        "vectordb = FAISS.from_documents(documents=docs, embedding=embedding)\n",
        "\n",
        "# @markdown - Save the vector store\n",
        "vectordb.save_local(\"faiss_knowledge_base\")\n",
        "print(\"Vector store saved to 'faiss_knowledge_base'\")"
      ],
      "metadata": {
        "colab": {
          "base_uri": "https://localhost:8080/"
        },
        "cellView": "form",
        "id": "Ld2vhSVKBBzr",
        "outputId": "b71c162d-ec9b-4810-f791-604f524c1e97"
      },
      "execution_count": 7,
      "outputs": [
        {
          "output_type": "stream",
          "name": "stdout",
          "text": [
            "Created 2581 document chunks\n",
            "Vector store saved to 'faiss_knowledge_base'\n"
          ]
        }
      ]
    },
    {
      "cell_type": "code",
      "source": [],
      "metadata": {
        "id": "naPneqsuBijV"
      },
      "execution_count": null,
      "outputs": []
    },
    {
      "cell_type": "markdown",
      "source": [
        "## 5. Q&A Bot Development <a name=\"qa-bot-development\"></a>"
      ],
      "metadata": {
        "id": "JcdHAzcnBi18"
      }
    },
    {
      "cell_type": "markdown",
      "source": [
        "### Now, let's develop the Q&A bot using the created knowledge base:"
      ],
      "metadata": {
        "id": "3fJgHsoiBxkU"
      }
    },
    {
      "cell_type": "code",
      "source": [
        "# @markdown **Load the vector store**\n",
        "vectordb = FAISS.load_local(\n",
        "    folder_path=\"faiss_knowledge_base\",\n",
        "    embeddings=embedding,\n",
        "    allow_dangerous_deserialization=True\n",
        ")"
      ],
      "metadata": {
        "cellView": "form",
        "id": "V5mr8SyYBjY0"
      },
      "execution_count": 8,
      "outputs": []
    },
    {
      "cell_type": "code",
      "source": [
        "# @markdown **Set up the language model and retriever**\n",
        "llm = ChatOpenAI(model_name=OPENAI_MODEL_NAME)\n",
        "retriever = vectordb.as_retriever(search_type=\"similarity\", search_kwargs={\"k\": 3})\n",
        "\n",
        "# @markdown - Define the chat prompt\n",
        "system_message = '''You are an AI assistant for Pratham (https://pratham.org), an innovative learning organization improving education in India. Your knowledge covers Pratham's history, programs, and impact. Guidelines:\n",
        "\n",
        "1. Provide accurate, relevant information based on Pratham's context.\n",
        "2. State uncertainties clearly; avoid assumptions.\n",
        "3. Be concise and informative.\n",
        "4. Use a friendly, educational tone.\n",
        "5. Suggest relevant Pratham resources when appropriate.\n",
        "6. Don't fabricate information.\n",
        "\n",
        "Assist users in understanding Pratham's educational work and impact in India.'''\n",
        "\n",
        "user_message = '''Answer this question using the provided context only.\n",
        "\n",
        "{question}\n",
        "\n",
        "Context:\n",
        "{context}'''\n",
        "\n",
        "# @markdown - Set up the RAG chain\n",
        "def format_docs(docs):\n",
        "    return \"\\n\\n\".join(doc.page_content for doc in docs)\n",
        "\n",
        "prompt = ChatPromptTemplate.from_messages([\n",
        "    SystemMessage(content=system_message),\n",
        "    (\"human\", user_message),\n",
        "])\n",
        "\n",
        "rag_chain = (\n",
        "    RunnablePassthrough.assign(context=(lambda x: format_docs(x[\"context\"])))\n",
        "    | prompt\n",
        "    | llm\n",
        "    | StrOutputParser()\n",
        ")\n",
        "\n",
        "retrieve_docs = (lambda x: x[\"input\"]) | retriever\n",
        "chain = RunnablePassthrough.assign(question=lambda x: x[\"input\"], context=retrieve_docs).assign(\n",
        "    answer=rag_chain\n",
        ")"
      ],
      "metadata": {
        "cellView": "form",
        "id": "YfAjayjYB3y9"
      },
      "execution_count": 9,
      "outputs": []
    },
    {
      "cell_type": "code",
      "source": [
        "# @markdown **Define the prediction function for Gradio**\n",
        "def predict(message, history):\n",
        "    partial_message = ''\n",
        "    for chunk in chain.stream({\"input\": message}):\n",
        "        if chunk.get('context'):\n",
        "            partial_message += \"**Sources:**\\n\" + \" | \".join([f\"[{item.metadata['title']}]({item.metadata['url']})\" for item in chunk['context']]) + \"\\n\\n\"\n",
        "            yield partial_message\n",
        "\n",
        "        if chunk.get('answer'):\n",
        "            partial_message += chunk['answer']\n",
        "            yield partial_message\n",
        "\n",
        "# @markdown - Create and launch the Gradio interface\n",
        "gr.ChatInterface(predict).launch(share=True, debug=False)"
      ],
      "metadata": {
        "colab": {
          "base_uri": "https://localhost:8080/",
          "height": 611
        },
        "cellView": "form",
        "id": "0Xbuyc4BCSz_",
        "outputId": "ff8ca8b0-26d7-4f84-bf95-53bf5b06a4ce"
      },
      "execution_count": 10,
      "outputs": [
        {
          "output_type": "stream",
          "name": "stdout",
          "text": [
            "Colab notebook detected. To show errors in colab notebook, set debug=True in launch()\n",
            "Running on public URL: https://0671c04de29fb11308.gradio.live\n",
            "\n",
            "This share link expires in 72 hours. For free permanent hosting and GPU upgrades, run `gradio deploy` from Terminal to deploy to Spaces (https://huggingface.co/spaces)\n"
          ]
        },
        {
          "output_type": "display_data",
          "data": {
            "text/plain": [
              "<IPython.core.display.HTML object>"
            ],
            "text/html": [
              "<div><iframe src=\"https://0671c04de29fb11308.gradio.live\" width=\"100%\" height=\"500\" allow=\"autoplay; camera; microphone; clipboard-read; clipboard-write;\" frameborder=\"0\" allowfullscreen></iframe></div>"
            ]
          },
          "metadata": {}
        },
        {
          "output_type": "execute_result",
          "data": {
            "text/plain": []
          },
          "metadata": {},
          "execution_count": 10
        }
      ]
    },
    {
      "cell_type": "code",
      "source": [],
      "metadata": {
        "id": "jyq9xGx7CdYT"
      },
      "execution_count": null,
      "outputs": []
    },
    {
      "cell_type": "markdown",
      "source": [
        "## 6. Evaluation <a name=\"evaluation\"></a>\n",
        "\n",
        "To evaluate the bot, we asked 5 specific questions about Pratham and record the responses.\n",
        "- Qn1: what is pratham\n",
        "- Qn2: can you tell me address of Pratham\n",
        "- Qn3: how can i join pratham\n",
        "- Qn4: can you give me contact number and official mail to contact with pratham?\n",
        "- Qn5: who are you\n",
        "\n"
      ],
      "metadata": {
        "id": "LGT-tyGqCdsi"
      }
    },
    {
      "cell_type": "code",
      "source": [],
      "metadata": {
        "id": "ueYKds7ACqoR"
      },
      "execution_count": null,
      "outputs": []
    },
    {
      "cell_type": "markdown",
      "source": [
        "## 7. Cost Analysis <a name=\"cost-analysis\"></a>"
      ],
      "metadata": {
        "id": "Git54CNTCr2U"
      }
    },
    {
      "cell_type": "code",
      "source": [
        "# @markdown **To estimate the cost for 1000 users asking 5 questions each per day:**\n",
        "\n",
        "# @markdown - Estimate cost for a single query\n",
        "with get_openai_callback() as cb:\n",
        "    response = chain.invoke({\"input\": \"What is Pratham's mission?\"})\n",
        "    print(f\"Cost for a single query: ${cb.total_cost:.4f}\")\n",
        "\n",
        "# @markdown - Calculate daily and monthly costs\n",
        "daily_queries = 1000 * 5\n",
        "daily_cost = daily_queries * cb.total_cost\n",
        "monthly_cost = daily_cost * 30\n",
        "\n",
        "print(f\"Estimated daily cost for {daily_queries} queries: ${daily_cost:.2f}\")\n",
        "print(f\"Estimated monthly cost: ${monthly_cost:.2f}\")\n",
        "\n",
        "# @markdown - This analysis provides a rough estimate of the operational costs for the Q&A bot. Actual costs may vary based on query complexity and length of responses.\n"
      ],
      "metadata": {
        "colab": {
          "base_uri": "https://localhost:8080/"
        },
        "cellView": "form",
        "id": "2eZ5Ej5qCgpb",
        "outputId": "18f3d05a-7bff-40fc-d561-38f2b8a93350"
      },
      "execution_count": 11,
      "outputs": [
        {
          "output_type": "stream",
          "name": "stdout",
          "text": [
            "Cost for a single query: $0.0111\n",
            "Estimated daily cost for 5000 queries: $55.35\n",
            "Estimated monthly cost: $1660.50\n"
          ]
        }
      ]
    },
    {
      "cell_type": "code",
      "source": [],
      "metadata": {
        "id": "SfOe3c17C-Zy"
      },
      "execution_count": null,
      "outputs": []
    },
    {
      "cell_type": "markdown",
      "source": [
        "## Conclusion\n",
        "\n",
        "This notebook demonstrates the process of creating a Q&A bot for Pratham.org, from data collection to bot deployment. The bot uses advanced NLP techniques and the latest language models to provide accurate and relevant information about Pratham's educational initiatives in India."
      ],
      "metadata": {
        "id": "fqtIO-euDC51"
      }
    }
  ]
}